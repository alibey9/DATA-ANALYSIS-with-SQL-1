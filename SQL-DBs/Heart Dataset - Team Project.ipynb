{
 "cells": [
  {
   "cell_type": "markdown",
   "id": "16aef440-f49d-4a07-9f46-28e5277ade88",
   "metadata": {},
   "source": [
    "# Heart Dataset - Team Project\n",
    "\n",
    "    * Use Logistic Regression Classification , KNN Classification and Decision Trees Classification"
   ]
  },
  {
   "cell_type": "markdown",
   "id": "0951cea3-2076-482a-9e2a-1e7612d26f5f",
   "metadata": {},
   "source": [
    "# Import Library"
   ]
  },
  {
   "cell_type": "markdown",
   "id": "55c78ff5-7728-4a03-9e18-1a3fb11a7ec3",
   "metadata": {},
   "source": [
    "# Read Dataset"
   ]
  },
  {
   "cell_type": "markdown",
   "id": "702fc477-6ccc-46f0-b5b3-f9e8814ae962",
   "metadata": {},
   "source": [
    "# Data Preparation"
   ]
  },
  {
   "cell_type": "markdown",
   "id": "f2a36600-600d-4f9a-9581-54f7a7aa5c50",
   "metadata": {},
   "source": [
    "# Visulazations"
   ]
  },
  {
   "cell_type": "markdown",
   "id": "d8d33e28-a8ec-4913-832f-ade23d780a55",
   "metadata": {},
   "source": [
    "# Statistical Analysis"
   ]
  },
  {
   "cell_type": "markdown",
   "id": "22f9cff7-63d2-485f-b8a0-3a40887c46e2",
   "metadata": {},
   "source": [
    "# Determine Dependent and Independent Variables"
   ]
  },
  {
   "cell_type": "markdown",
   "id": "cdfa8a07-1bde-49aa-b32c-0542e1b228c5",
   "metadata": {},
   "source": [
    "# Scaling the Data"
   ]
  },
  {
   "cell_type": "markdown",
   "id": "196c998f-9bdf-4e15-9406-b07791a15809",
   "metadata": {},
   "source": [
    "# 1. Logistic Regression Classification"
   ]
  },
  {
   "cell_type": "markdown",
   "id": "66751c51-7a21-4310-84ae-a7f1512370a7",
   "metadata": {},
   "source": [
    "## Train - Test Split"
   ]
  },
  {
   "cell_type": "markdown",
   "id": "09b69349-84e3-4306-8832-37fcf0d2b037",
   "metadata": {},
   "source": [
    "## Model Fitting and Compare Actual and Predicted Labels"
   ]
  },
  {
   "cell_type": "markdown",
   "id": "2339687a-20f2-4b8c-bfff-ce9b79af3480",
   "metadata": {},
   "source": [
    "## Error Metrics"
   ]
  },
  {
   "cell_type": "markdown",
   "id": "bd10d310-e341-4324-a81d-febbf4ad637f",
   "metadata": {},
   "source": [
    "## Evaluate Model"
   ]
  },
  {
   "cell_type": "markdown",
   "id": "72ad5071-668f-40da-9d9d-b11e8cd2fa0f",
   "metadata": {},
   "source": [
    "# 2. KNN Trees Classification"
   ]
  },
  {
   "cell_type": "markdown",
   "id": "7d787abb-1b13-4d55-b1a8-914d59fc0dea",
   "metadata": {},
   "source": [
    "## Train - Test Split"
   ]
  },
  {
   "cell_type": "markdown",
   "id": "e0c366d9-1544-4608-b939-b276ee54086b",
   "metadata": {},
   "source": [
    "## Model Fitting and Compare Actual and Predicted Labels"
   ]
  },
  {
   "cell_type": "markdown",
   "id": "a2cd72f1-8bcd-4fff-b268-22e747a869f9",
   "metadata": {},
   "source": [
    "## Error Metrics"
   ]
  },
  {
   "cell_type": "markdown",
   "id": "3650aece-313b-4aed-8a72-2b25465b4ae1",
   "metadata": {},
   "source": [
    "## Evaluate Model"
   ]
  },
  {
   "cell_type": "markdown",
   "id": "219e3a88-a78e-4054-8b3f-92ec85a8252c",
   "metadata": {
    "tags": []
   },
   "source": [
    "# 3. Decision Trees Classification"
   ]
  },
  {
   "cell_type": "markdown",
   "id": "160ad59d-c3b7-4311-bfe7-91ca9d3037d5",
   "metadata": {},
   "source": [
    "## Train - Test Split"
   ]
  },
  {
   "cell_type": "markdown",
   "id": "2974631a-3aef-4b3c-8b26-e8742039e661",
   "metadata": {},
   "source": [
    "## Model Fitting and Compare Actual and Predicted Labels"
   ]
  },
  {
   "cell_type": "markdown",
   "id": "a2d1197e-b5fa-4079-8199-b0e4efe57bec",
   "metadata": {},
   "source": [
    "## Error Metrics"
   ]
  },
  {
   "cell_type": "markdown",
   "id": "cea5f111-af91-449b-adfd-3414bc662c8f",
   "metadata": {},
   "source": [
    "## Evaluate Model"
   ]
  },
  {
   "cell_type": "markdown",
   "id": "0b5a4e08-c83c-4bdb-b977-e94932b0813d",
   "metadata": {},
   "source": [
    "## 4. Compare All Model Result in Dataframe"
   ]
  },
  {
   "cell_type": "code",
   "execution_count": null,
   "id": "29f14ecb-3c93-487e-8767-8406006735aa",
   "metadata": {},
   "outputs": [],
   "source": []
  }
 ],
 "metadata": {
  "kernelspec": {
   "display_name": "Python 3",
   "language": "python",
   "name": "python3"
  },
  "language_info": {
   "codemirror_mode": {
    "name": "ipython",
    "version": 3
   },
   "file_extension": ".py",
   "mimetype": "text/x-python",
   "name": "python",
   "nbconvert_exporter": "python",
   "pygments_lexer": "ipython3",
   "version": "3.8.8"
  }
 },
 "nbformat": 4,
 "nbformat_minor": 5
}
